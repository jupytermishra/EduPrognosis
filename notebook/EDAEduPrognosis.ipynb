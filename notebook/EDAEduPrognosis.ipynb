{
 "cells": [
  {
   "cell_type": "markdown",
   "metadata": {},
   "source": [
    "# **EduPrognosis: Student Performance Indicator**\n",
    "\n",
    "## Life Cycle Of Machine Learning Project"
   ]
  }
 ],
 "metadata": {
  "language_info": {
   "name": "python"
  }
 },
 "nbformat": 4,
 "nbformat_minor": 2
}
