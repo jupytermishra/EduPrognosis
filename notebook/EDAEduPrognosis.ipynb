{
 "cells": [
  {
   "cell_type": "markdown",
   "metadata": {},
   "source": [
    "# 📚**EᴅᴜPʀᴏɢɴᴏsɪs: Sᴛᴜᴅᴇɴᴛ Pᴇʀғᴏʀᴍᴀɴᴄᴇ Iɴᴅɪᴄᴀᴛᴏʀ**\n",
    "\n",
    "- ## Lɪғᴇ Cʏᴄʟᴇ Oғ Mᴀᴄʜɪɴᴇ Lᴇᴀʀɴɪɴɢ Pʀᴏᴊᴇᴄᴛ\n",
    "\n",
    "    - *Uɴᴅᴇʀsᴛᴀɴᴅɪɴɢ Tʜᴇ Pʀᴏʙʟᴇᴍ Sᴛᴀᴛᴇᴍᴇɴᴛ*\n",
    "    - *Dᴀᴛᴀ Cʟᴇᴀɴɪɴɢ*\n",
    "    - *Dᴀᴛᴀ Cʜᴇᴄᴋs Tᴏ Pᴇʀғᴏʀᴍ*\n",
    "    - *Exᴘʟᴏʀᴀᴛᴏʀʏ Dᴀᴛᴀ Aɴᴀʟʏsɪs*\n",
    "    - *Dᴀᴛᴀ Pʀᴇ-Pʀᴏᴄᴇssɪɴɢ*\n",
    "    - *Mᴏᴅᴇʟ Tʀᴀɪɴɪɴɢ*\n",
    "    - *Cʜᴏᴏsᴇ Bᴇsᴛ Mᴏᴅᴇʟ*\n",
    "\n",
    "    \n",
    "\n"
   ]
  },
  {
   "cell_type": "markdown",
   "metadata": {},
   "source": [
    "1. ### Pʀᴏʙʟᴇᴍ Sᴛᴀᴛᴇᴍᴇɴᴛ\n",
    "- *Tʜɪs ᴘʀᴏᴊᴇᴄᴛ ᴜɴᴅᴇʀsᴛᴀɴᴅs ʜᴏᴡ ᴛʜᴇ sᴛᴜᴅᴇɴᴛ's ᴘᴇʀғᴏʀᴍᴀɴᴄᴇ(ᴛᴇsᴛ sᴄᴏʀᴇs) ɪs ᴀғғᴇᴄᴛᴇᴅ ʙʏ ᴏᴛʜᴇʀ ᴠᴀʀɪᴀʙʟᴇs sᴜᴄʜ ᴀs Gᴇɴᴅᴇʀ, Eᴛʜɴɪᴄɪᴛʏ, Pᴀʀᴇɴᴛᴀʟ Lᴇᴠᴇʟ ᴏғ ᴇᴅᴜᴄᴀᴛɪᴏɴ, Lᴜɴᴄʜ ᴀɴᴅ Tᴇsᴛ ᴘʀᴇᴘᴀʀᴀᴛɪᴏɴ ᴄᴏᴜʀsᴇ.*"
   ]
  },
  {
   "cell_type": "markdown",
   "metadata": {},
   "source": [
    "2. ### Dᴀᴛᴀ Cᴏʟʟᴇᴄᴛɪᴏɴ\n",
    "- Dᴀᴛᴀsᴇᴛ Sᴏᴜʀᴄᴇs - ʜᴛᴛᴘs://ᴡᴡᴡ.ᴋᴀɢɢʟᴇ.ᴄᴏᴍ/ᴅᴀᴛᴀsᴇᴛs/sᴘsᴄɪᴇɴᴛɪsᴛ/sᴛᴜᴅᴇɴᴛs-ᴘᴇʀғᴏʀᴍᴀɴᴄᴇ-ɪɴ-ᴇxᴀᴍs?ᴅᴀᴛᴀsᴇᴛIᴅ=74977\n",
    "- Tʜᴇ Dᴀᴛᴀ Cᴏɴsɪsᴛs Oғ 8 Cᴏʟᴜᴍɴ ᴀɴᴅ 1000 Rᴏᴡs.\n"
   ]
  },
  {
   "cell_type": "markdown",
   "metadata": {},
   "source": [
    "### Iᴍᴘᴏʀᴛ Dᴀᴛᴀ Aɴᴅ Rᴇᴏ̨ᴜɪʀᴇᴅ Pᴀᴄᴋᴀɢᴇs\n",
    "- Iᴍᴘᴏʀᴛɪɴɢ Pᴀɴᴅᴀs, Nᴜᴍᴘʏ, Mᴀᴛᴘʟᴏᴛʟɪʙ, Sᴇᴀʙᴏʀɴ Aɴᴅ Wᴀʀɴɪɴɢs Lɪʙʀᴀʀʏ."
   ]
  },
  {
   "cell_type": "code",
   "execution_count": 1,
   "metadata": {},
   "outputs": [],
   "source": [
    "import pandas as pd\n",
    "import numpy as np\n",
    "import seaborn as sns\n",
    "import matplotlib.pyplot as plt \n",
    "%matplotlib inline\n",
    "import warnings\n",
    "warnings.filterwarnings('ignore')"
   ]
  },
  {
   "cell_type": "markdown",
   "metadata": {},
   "source": [
    "- Import The CSV Data As Pandas DataFrame"
   ]
  },
  {
   "cell_type": "code",
   "execution_count": 2,
   "metadata": {},
   "outputs": [],
   "source": [
    "df = pd.read_csv('data/stud.csv')"
   ]
  },
  {
   "cell_type": "markdown",
   "metadata": {},
   "source": [
    "- Show Top 5 Records"
   ]
  },
  {
   "cell_type": "code",
   "execution_count": 3,
   "metadata": {},
   "outputs": [
    {
     "data": {
      "text/html": [
       "<div>\n",
       "<style scoped>\n",
       "    .dataframe tbody tr th:only-of-type {\n",
       "        vertical-align: middle;\n",
       "    }\n",
       "\n",
       "    .dataframe tbody tr th {\n",
       "        vertical-align: top;\n",
       "    }\n",
       "\n",
       "    .dataframe thead th {\n",
       "        text-align: right;\n",
       "    }\n",
       "</style>\n",
       "<table border=\"1\" class=\"dataframe\">\n",
       "  <thead>\n",
       "    <tr style=\"text-align: right;\">\n",
       "      <th></th>\n",
       "      <th>gender</th>\n",
       "      <th>race_ethnicity</th>\n",
       "      <th>parental_level_of_education</th>\n",
       "      <th>lunch</th>\n",
       "      <th>test_preparation_course</th>\n",
       "      <th>math_score</th>\n",
       "      <th>reading_score</th>\n",
       "      <th>writing_score</th>\n",
       "    </tr>\n",
       "  </thead>\n",
       "  <tbody>\n",
       "    <tr>\n",
       "      <th>0</th>\n",
       "      <td>female</td>\n",
       "      <td>group B</td>\n",
       "      <td>bachelor's degree</td>\n",
       "      <td>standard</td>\n",
       "      <td>none</td>\n",
       "      <td>72</td>\n",
       "      <td>72</td>\n",
       "      <td>74</td>\n",
       "    </tr>\n",
       "    <tr>\n",
       "      <th>1</th>\n",
       "      <td>female</td>\n",
       "      <td>group C</td>\n",
       "      <td>some college</td>\n",
       "      <td>standard</td>\n",
       "      <td>completed</td>\n",
       "      <td>69</td>\n",
       "      <td>90</td>\n",
       "      <td>88</td>\n",
       "    </tr>\n",
       "    <tr>\n",
       "      <th>2</th>\n",
       "      <td>female</td>\n",
       "      <td>group B</td>\n",
       "      <td>master's degree</td>\n",
       "      <td>standard</td>\n",
       "      <td>none</td>\n",
       "      <td>90</td>\n",
       "      <td>95</td>\n",
       "      <td>93</td>\n",
       "    </tr>\n",
       "    <tr>\n",
       "      <th>3</th>\n",
       "      <td>male</td>\n",
       "      <td>group A</td>\n",
       "      <td>associate's degree</td>\n",
       "      <td>free/reduced</td>\n",
       "      <td>none</td>\n",
       "      <td>47</td>\n",
       "      <td>57</td>\n",
       "      <td>44</td>\n",
       "    </tr>\n",
       "    <tr>\n",
       "      <th>4</th>\n",
       "      <td>male</td>\n",
       "      <td>group C</td>\n",
       "      <td>some college</td>\n",
       "      <td>standard</td>\n",
       "      <td>none</td>\n",
       "      <td>76</td>\n",
       "      <td>78</td>\n",
       "      <td>75</td>\n",
       "    </tr>\n",
       "  </tbody>\n",
       "</table>\n",
       "</div>"
      ],
      "text/plain": [
       "   gender race_ethnicity parental_level_of_education         lunch  \\\n",
       "0  female        group B           bachelor's degree      standard   \n",
       "1  female        group C                some college      standard   \n",
       "2  female        group B             master's degree      standard   \n",
       "3    male        group A          associate's degree  free/reduced   \n",
       "4    male        group C                some college      standard   \n",
       "\n",
       "  test_preparation_course  math_score  reading_score  writing_score  \n",
       "0                    none          72             72             74  \n",
       "1               completed          69             90             88  \n",
       "2                    none          90             95             93  \n",
       "3                    none          47             57             44  \n",
       "4                    none          76             78             75  "
      ]
     },
     "execution_count": 3,
     "metadata": {},
     "output_type": "execute_result"
    }
   ],
   "source": [
    "df.head()"
   ]
  },
  {
   "cell_type": "markdown",
   "metadata": {},
   "source": [
    "- Shape Of The DataSet "
   ]
  },
  {
   "cell_type": "code",
   "execution_count": 4,
   "metadata": {},
   "outputs": [
    {
     "data": {
      "text/plain": [
       "(1000, 8)"
      ]
     },
     "execution_count": 4,
     "metadata": {},
     "output_type": "execute_result"
    }
   ],
   "source": [
    "df.shape"
   ]
  },
  {
   "cell_type": "code",
   "execution_count": null,
   "metadata": {},
   "outputs": [],
   "source": []
  }
 ],
 "metadata": {
  "kernelspec": {
   "display_name": "myenv",
   "language": "python",
   "name": "python3"
  },
  "language_info": {
   "codemirror_mode": {
    "name": "ipython",
    "version": 3
   },
   "file_extension": ".py",
   "mimetype": "text/x-python",
   "name": "python",
   "nbconvert_exporter": "python",
   "pygments_lexer": "ipython3",
   "version": "3.11.8"
  }
 },
 "nbformat": 4,
 "nbformat_minor": 2
}
